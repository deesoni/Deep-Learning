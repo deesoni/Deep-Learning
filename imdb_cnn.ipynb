{
  "cells": [
    {
      "metadata": {
        "_cell_guid": "79c7e3d0-c299-4dcb-8224-4455121ee9b0",
        "_uuid": "d629ff2d2480ee46fbb7e2d37f6b5fab8052498a",
        "trusted": true
      },
      "cell_type": "code",
      "source": "from __future__ import print_function\n\nimport keras\nfrom keras.preprocessing import sequence\nfrom keras.models import Sequential\nfrom keras.layers import Dense, Dropout, Activation\nfrom keras.layers import Embedding\nfrom keras.layers import Conv1D, GlobalMaxPooling1D\nfrom keras.datasets import imdb",
      "execution_count": 9,
      "outputs": []
    },
    {
      "metadata": {
        "trusted": true,
        "_uuid": "9499e10a8a7f6401e0d3e8410abc08c408a38f40"
      },
      "cell_type": "code",
      "source": "max_features = 5000\nmaxlen = 400\nbatch_size = 32\nembedding_dims = 50\nfilters = 250\nkernel_size = 3\nhidden_dims = 250\nepochs = 2",
      "execution_count": 10,
      "outputs": []
    },
    {
      "metadata": {
        "trusted": true,
        "_uuid": "36ef0f34720256d1f55b464f30e70a10df1b3817"
      },
      "cell_type": "code",
      "source": "(X_train, y_train), (X_test, y_test) = imdb.load_data()",
      "execution_count": 11,
      "outputs": []
    },
    {
      "metadata": {
        "trusted": true,
        "_uuid": "c8736cd87e551ba68cc51ea8dae4f95f222530b2"
      },
      "cell_type": "code",
      "source": "print(len(X_train), len(X_test), X_train.shape)",
      "execution_count": 12,
      "outputs": [
        {
          "output_type": "stream",
          "text": "25000 25000 (25000,)\n",
          "name": "stdout"
        }
      ]
    },
    {
      "metadata": {
        "trusted": true,
        "_uuid": "f9062cbcc53540c34d19a284bd90d7707431f2ee"
      },
      "cell_type": "code",
      "source": "X_train = sequence.pad_sequences(X_train, maxlen=maxlen)\nX_test = sequence.pad_sequences(X_test, maxlen=maxlen)",
      "execution_count": 13,
      "outputs": []
    },
    {
      "metadata": {
        "trusted": true,
        "_uuid": "c6b630495f0c0a40943aa29e4c44957b4080a281"
      },
      "cell_type": "code",
      "source": "X_train.shape",
      "execution_count": 14,
      "outputs": [
        {
          "output_type": "execute_result",
          "execution_count": 14,
          "data": {
            "text/plain": "(25000, 400)"
          },
          "metadata": {}
        }
      ]
    },
    {
      "metadata": {
        "trusted": true,
        "_uuid": "a3ce7e0f91966bd9a1ec6bbfa4598401a18b51bb"
      },
      "cell_type": "code",
      "source": "model = Sequential()\nmodel.add(Embedding(max_features, embedding_dims, input_length=maxlen))\nmodel.add(Dropout(0.2))\nmodel.add(Conv1D(filters, kernel_size=kernel_size, padding='valid', activation='relu', strides=1))\nmodel.add(GlobalMaxPooling1D())\nmodel.add(Dense(hidden_dims))\nmodel.add(Dropout(0.2))\nmodel.add(Activation('relu'))\nmodel.add(Dense(1))\nmodel.add(Activation('sigmoid'))\n\nmodel.compile(loss='binary_crossentropy', optimizer='adam', metrics=['accuracy'])\nmodel.fit(X_train, y_train, batch_size=batch_size, epochs=epochs, validation_data=(X_test, y_test))",
      "execution_count": 17,
      "outputs": [
        {
          "output_type": "stream",
          "text": "Train on 25000 samples, validate on 25000 samples\nEpoch 1/2\n25000/25000 [==============================] - 15s 583us/step - loss: 0.7876 - acc: 0.5579 - val_loss: 0.6522 - val_acc: 0.6070\nEpoch 2/2\n25000/25000 [==============================] - 10s 394us/step - loss: 0.6459 - acc: 0.6234 - val_loss: 0.6067 - val_acc: 0.6633\n",
          "name": "stdout"
        },
        {
          "output_type": "execute_result",
          "execution_count": 17,
          "data": {
            "text/plain": "<keras.callbacks.History at 0x7f4d3f6cdb70>"
          },
          "metadata": {}
        }
      ]
    },
    {
      "metadata": {
        "trusted": true,
        "scrolled": true,
        "_uuid": "ec1fa9dc79038ca710a43d6a7ae448186a64b72c"
      },
      "cell_type": "code",
      "source": "model.evaluate(X_test, y_test, verbose=1)",
      "execution_count": 19,
      "outputs": [
        {
          "output_type": "stream",
          "text": "25000/25000 [==============================] - 2s 84us/step\n",
          "name": "stdout"
        },
        {
          "output_type": "execute_result",
          "execution_count": 19,
          "data": {
            "text/plain": "[0.6067461363983154, 0.66328]"
          },
          "metadata": {}
        }
      ]
    },
    {
      "metadata": {
        "trusted": true,
        "scrolled": true,
        "_uuid": "4e80b91052403c9fb58f59d0a5af82e225482b6a"
      },
      "cell_type": "code",
      "source": "model.fit(X_train, y_train, batch_size=batch_size, epochs=5, validation_data=(X_test, y_test))",
      "execution_count": 21,
      "outputs": [
        {
          "output_type": "stream",
          "text": "Train on 25000 samples, validate on 25000 samples\nEpoch 1/5\n25000/25000 [==============================] - 10s 395us/step - loss: 0.2533 - acc: 0.8955 - val_loss: 0.3014 - val_acc: 0.8628\nEpoch 2/5\n25000/25000 [==============================] - 10s 390us/step - loss: 0.2350 - acc: 0.9052 - val_loss: 0.3121 - val_acc: 0.8691\nEpoch 3/5\n25000/25000 [==============================] - 10s 390us/step - loss: 0.2190 - acc: 0.9140 - val_loss: 0.2995 - val_acc: 0.8771\nEpoch 4/5\n25000/25000 [==============================] - 10s 390us/step - loss: 0.2066 - acc: 0.9188 - val_loss: 0.2939 - val_acc: 0.8780\nEpoch 5/5\n25000/25000 [==============================] - 10s 392us/step - loss: 0.1872 - acc: 0.9253 - val_loss: 0.3472 - val_acc: 0.8646\n",
          "name": "stdout"
        },
        {
          "output_type": "execute_result",
          "execution_count": 21,
          "data": {
            "text/plain": "<keras.callbacks.History at 0x7f4d3da38e80>"
          },
          "metadata": {}
        }
      ]
    },
    {
      "metadata": {
        "trusted": true,
        "_uuid": "3e10601b8e894a4cde200f41ee035b0c63ec498a"
      },
      "cell_type": "code",
      "source": "",
      "execution_count": null,
      "outputs": []
    },
    {
      "metadata": {
        "trusted": true,
        "_uuid": "26a149e2fb8b94ee7ece099c3b48499cff12a504"
      },
      "cell_type": "code",
      "source": "",
      "execution_count": null,
      "outputs": []
    }
  ],
  "metadata": {
    "kernelspec": {
      "display_name": "Python 3",
      "language": "python",
      "name": "python3"
    },
    "language_info": {
      "name": "python",
      "version": "3.6.6",
      "mimetype": "text/x-python",
      "codemirror_mode": {
        "name": "ipython",
        "version": 3
      },
      "pygments_lexer": "ipython3",
      "nbconvert_exporter": "python",
      "file_extension": ".py"
    }
  },
  "nbformat": 4,
  "nbformat_minor": 1
}