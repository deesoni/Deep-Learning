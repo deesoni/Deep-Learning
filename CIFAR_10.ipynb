{
  "nbformat": 4,
  "nbformat_minor": 0,
  "metadata": {
    "colab": {
      "name": "CIFAR-10.ipynb",
      "version": "0.3.2",
      "provenance": [],
      "collapsed_sections": [],
      "include_colab_link": true
    },
    "kernelspec": {
      "name": "python3",
      "display_name": "Python 3"
    },
    "accelerator": "GPU"
  },
  "cells": [
    {
      "cell_type": "markdown",
      "metadata": {
        "id": "view-in-github",
        "colab_type": "text"
      },
      "source": [
        "<a href=\"https://colab.research.google.com/github/deesoni/Deep-Learning/blob/master/CIFAR_10.ipynb\" target=\"_parent\"><img src=\"https://colab.research.google.com/assets/colab-badge.svg\" alt=\"Open In Colab\"/></a>"
      ]
    },
    {
      "metadata": {
        "id": "jLw6XZo_-gYk",
        "colab_type": "code",
        "colab": {
          "base_uri": "https://localhost:8080/",
          "height": 34
        },
        "outputId": "93b54127-8bb3-43e6-fee5-476e481a342f"
      },
      "cell_type": "code",
      "source": [
        "from __future__ import print_function\n",
        "import keras\n",
        "from keras.datasets import cifar10\n",
        "from keras.models import Sequential\n",
        "from keras.layers import Dense, Dropout, Activation, Conv2D, MaxPooling2D, Flatten\n",
        "from keras.optimizers import SGD\n",
        "from keras.utils import print_summary, to_categorical\n",
        "import sys\n",
        "import os"
      ],
      "execution_count": 2,
      "outputs": [
        {
          "output_type": "stream",
          "text": [
            "Using TensorFlow backend.\n"
          ],
          "name": "stderr"
        }
      ]
    },
    {
      "metadata": {
        "id": "OzTEurUb-lCi",
        "colab_type": "code",
        "colab": {}
      },
      "cell_type": "code",
      "source": [
        "batch_size = 64\n",
        "num_classes = 10\n",
        "epochs = 100\n",
        "model_name = 'keras_cifar10_model'\n",
        "save_dir = '/model/' + model_name"
      ],
      "execution_count": 0,
      "outputs": []
    },
    {
      "metadata": {
        "id": "UJMFvd0z-nDK",
        "colab_type": "code",
        "colab": {
          "base_uri": "https://localhost:8080/",
          "height": 50
        },
        "outputId": "47bf4751-bb25-4149-d3bf-99e580082917"
      },
      "cell_type": "code",
      "source": [
        "(X_train, y_train), (X_test, y_test) = cifar10.load_data()"
      ],
      "execution_count": 7,
      "outputs": [
        {
          "output_type": "stream",
          "text": [
            "Downloading data from https://www.cs.toronto.edu/~kriz/cifar-10-python.tar.gz\n",
            "170500096/170498071 [==============================] - 7s 0us/step\n"
          ],
          "name": "stdout"
        }
      ]
    },
    {
      "metadata": {
        "id": "D_SPlhY4_XxI",
        "colab_type": "text"
      },
      "cell_type": "markdown",
      "source": [
        "We also need to convert the labels in the dataset into categorical matrix structure from 1-dim numpy array structure."
      ]
    },
    {
      "metadata": {
        "id": "zYAvCEXW_b9A",
        "colab_type": "code",
        "colab": {}
      },
      "cell_type": "code",
      "source": [
        "y_train = to_categorical(y_train, num_classes=num_classes)\n",
        "y_test = to_categorical(y_test, num_classes=num_classes)"
      ],
      "execution_count": 0,
      "outputs": []
    },
    {
      "metadata": {
        "id": "HnJ_Lsl-_iQQ",
        "colab_type": "code",
        "colab": {}
      },
      "cell_type": "code",
      "source": [
        "X_train = X_train.astype('float32')\n",
        "X_test = X_test.astype('float32')\n",
        "X_train /= 255.0\n",
        "X_test /= 255.0"
      ],
      "execution_count": 0,
      "outputs": []
    },
    {
      "metadata": {
        "id": "wfWZVg9u_mdo",
        "colab_type": "code",
        "colab": {}
      },
      "cell_type": "code",
      "source": [
        "model = Sequential()\n",
        "model.add(Conv2D(32, (3,3), padding='same', input_shape=X_train.shape[1:]))\n",
        "model.add(Activation('relu'))\n",
        "model.add(MaxPooling2D(pool_size=(2,2)))\n",
        "model.add(Dropout(0.3))\n",
        "\n",
        "model.add(Conv2D(64, (3,3), padding='same'))\n",
        "model.add(Activation('relu'))\n",
        "model.add(MaxPooling2D(pool_size=(2,2)))\n",
        "model.add(Dropout(0.3))\n",
        "\n",
        "model.add(Conv2D(128, (3,3), padding='same'))\n",
        "model.add(Activation('relu'))\n",
        "model.add(MaxPooling2D(pool_size=(2,2)))\n",
        "model.add(Dropout(0.3))\n",
        "\n",
        "model.add(Flatten())\n",
        "model.add(Dense(80))\n",
        "model.add(Activation('relu'))\n",
        "model.add(Dropout(0.3))\n",
        "model.add(Dense(num_classes))\n",
        "model.add(Activation('softmax'))"
      ],
      "execution_count": 0,
      "outputs": []
    },
    {
      "metadata": {
        "id": "z7xmU_faDFdx",
        "colab_type": "code",
        "colab": {
          "base_uri": "https://localhost:8080/",
          "height": 739
        },
        "outputId": "51938d0c-1292-40c0-d7eb-3fb14c11b251"
      },
      "cell_type": "code",
      "source": [
        "model.summary()"
      ],
      "execution_count": 13,
      "outputs": [
        {
          "output_type": "stream",
          "text": [
            "_________________________________________________________________\n",
            "Layer (type)                 Output Shape              Param #   \n",
            "=================================================================\n",
            "conv2d_1 (Conv2D)            (None, 32, 32, 32)        896       \n",
            "_________________________________________________________________\n",
            "activation_1 (Activation)    (None, 32, 32, 32)        0         \n",
            "_________________________________________________________________\n",
            "max_pooling2d_1 (MaxPooling2 (None, 16, 16, 32)        0         \n",
            "_________________________________________________________________\n",
            "dropout_1 (Dropout)          (None, 16, 16, 32)        0         \n",
            "_________________________________________________________________\n",
            "conv2d_2 (Conv2D)            (None, 16, 16, 64)        18496     \n",
            "_________________________________________________________________\n",
            "activation_2 (Activation)    (None, 16, 16, 64)        0         \n",
            "_________________________________________________________________\n",
            "max_pooling2d_2 (MaxPooling2 (None, 8, 8, 64)          0         \n",
            "_________________________________________________________________\n",
            "dropout_2 (Dropout)          (None, 8, 8, 64)          0         \n",
            "_________________________________________________________________\n",
            "conv2d_3 (Conv2D)            (None, 8, 8, 128)         73856     \n",
            "_________________________________________________________________\n",
            "activation_3 (Activation)    (None, 8, 8, 128)         0         \n",
            "_________________________________________________________________\n",
            "max_pooling2d_3 (MaxPooling2 (None, 4, 4, 128)         0         \n",
            "_________________________________________________________________\n",
            "dropout_3 (Dropout)          (None, 4, 4, 128)         0         \n",
            "_________________________________________________________________\n",
            "flatten_1 (Flatten)          (None, 2048)              0         \n",
            "_________________________________________________________________\n",
            "dense_1 (Dense)              (None, 80)                163920    \n",
            "_________________________________________________________________\n",
            "activation_4 (Activation)    (None, 80)                0         \n",
            "_________________________________________________________________\n",
            "dropout_4 (Dropout)          (None, 80)                0         \n",
            "_________________________________________________________________\n",
            "dense_2 (Dense)              (None, 10)                810       \n",
            "_________________________________________________________________\n",
            "activation_5 (Activation)    (None, 10)                0         \n",
            "=================================================================\n",
            "Total params: 257,978\n",
            "Trainable params: 257,978\n",
            "Non-trainable params: 0\n",
            "_________________________________________________________________\n"
          ],
          "name": "stdout"
        }
      ]
    },
    {
      "metadata": {
        "id": "wbRG8NVPDHkI",
        "colab_type": "code",
        "colab": {}
      },
      "cell_type": "code",
      "source": [
        "opt = SGD(momentum=0.9)"
      ],
      "execution_count": 0,
      "outputs": []
    },
    {
      "metadata": {
        "id": "kgK65HgCDJxS",
        "colab_type": "code",
        "colab": {}
      },
      "cell_type": "code",
      "source": [
        "model.compile(loss='categorical_crossentropy', optimizer=opt, metrics=['accuracy'])"
      ],
      "execution_count": 0,
      "outputs": []
    },
    {
      "metadata": {
        "id": "QRx0t7GsDNQ5",
        "colab_type": "code",
        "colab": {
          "base_uri": "https://localhost:8080/",
          "height": 3430
        },
        "outputId": "92ce3204-74f6-417b-8990-38e89e624a06"
      },
      "cell_type": "code",
      "source": [
        "model.fit(X_train, y_train, batch_size=batch_size, epochs=epochs, verbose=1, validation_split=0.2, shuffle=True)"
      ],
      "execution_count": 16,
      "outputs": [
        {
          "output_type": "stream",
          "text": [
            "Train on 40000 samples, validate on 10000 samples\n",
            "Epoch 1/100\n",
            "40000/40000 [==============================] - 13s 324us/step - loss: 2.0031 - acc: 0.2562 - val_loss: 1.6759 - val_acc: 0.4118\n",
            "Epoch 2/100\n",
            "40000/40000 [==============================] - 10s 249us/step - loss: 1.6184 - acc: 0.4101 - val_loss: 1.4241 - val_acc: 0.4973\n",
            "Epoch 3/100\n",
            "40000/40000 [==============================] - 10s 249us/step - loss: 1.4359 - acc: 0.4787 - val_loss: 1.3113 - val_acc: 0.5350\n",
            "Epoch 4/100\n",
            "40000/40000 [==============================] - 10s 248us/step - loss: 1.3384 - acc: 0.5179 - val_loss: 1.2178 - val_acc: 0.5730\n",
            "Epoch 5/100\n",
            "40000/40000 [==============================] - 10s 250us/step - loss: 1.2526 - acc: 0.5491 - val_loss: 1.1561 - val_acc: 0.5791\n",
            "Epoch 6/100\n",
            "40000/40000 [==============================] - 10s 249us/step - loss: 1.1960 - acc: 0.5726 - val_loss: 1.0453 - val_acc: 0.6338\n",
            "Epoch 7/100\n",
            "40000/40000 [==============================] - 10s 250us/step - loss: 1.1331 - acc: 0.5945 - val_loss: 1.0429 - val_acc: 0.6391\n",
            "Epoch 8/100\n",
            "40000/40000 [==============================] - 10s 250us/step - loss: 1.0975 - acc: 0.6094 - val_loss: 0.9979 - val_acc: 0.6397\n",
            "Epoch 9/100\n",
            "40000/40000 [==============================] - 10s 247us/step - loss: 1.0475 - acc: 0.6275 - val_loss: 0.9213 - val_acc: 0.6718\n",
            "Epoch 10/100\n",
            "40000/40000 [==============================] - 10s 245us/step - loss: 1.0235 - acc: 0.6361 - val_loss: 1.0437 - val_acc: 0.6386\n",
            "Epoch 11/100\n",
            "40000/40000 [==============================] - 10s 247us/step - loss: 0.9925 - acc: 0.6460 - val_loss: 0.8698 - val_acc: 0.6965\n",
            "Epoch 12/100\n",
            "40000/40000 [==============================] - 10s 248us/step - loss: 0.9720 - acc: 0.6563 - val_loss: 0.8420 - val_acc: 0.7045\n",
            "Epoch 13/100\n",
            "40000/40000 [==============================] - 10s 248us/step - loss: 0.9427 - acc: 0.6658 - val_loss: 0.9001 - val_acc: 0.6888\n",
            "Epoch 14/100\n",
            "40000/40000 [==============================] - 10s 248us/step - loss: 0.9275 - acc: 0.6726 - val_loss: 0.8334 - val_acc: 0.7131\n",
            "Epoch 15/100\n",
            "40000/40000 [==============================] - 10s 248us/step - loss: 0.9063 - acc: 0.6787 - val_loss: 0.8030 - val_acc: 0.7201\n",
            "Epoch 16/100\n",
            "40000/40000 [==============================] - 10s 248us/step - loss: 0.8970 - acc: 0.6814 - val_loss: 0.7632 - val_acc: 0.7393\n",
            "Epoch 17/100\n",
            "40000/40000 [==============================] - 10s 247us/step - loss: 0.8687 - acc: 0.6938 - val_loss: 0.7872 - val_acc: 0.7276\n",
            "Epoch 18/100\n",
            "40000/40000 [==============================] - 10s 248us/step - loss: 0.8717 - acc: 0.6914 - val_loss: 0.7724 - val_acc: 0.7299\n",
            "Epoch 19/100\n",
            "40000/40000 [==============================] - 10s 247us/step - loss: 0.8535 - acc: 0.6990 - val_loss: 0.8541 - val_acc: 0.7060\n",
            "Epoch 20/100\n",
            "40000/40000 [==============================] - 10s 246us/step - loss: 0.8438 - acc: 0.7038 - val_loss: 0.7575 - val_acc: 0.7347\n",
            "Epoch 21/100\n",
            "40000/40000 [==============================] - 10s 248us/step - loss: 0.8316 - acc: 0.7067 - val_loss: 0.7681 - val_acc: 0.7344\n",
            "Epoch 22/100\n",
            "40000/40000 [==============================] - 10s 249us/step - loss: 0.8251 - acc: 0.7081 - val_loss: 0.7391 - val_acc: 0.7434\n",
            "Epoch 23/100\n",
            "40000/40000 [==============================] - 10s 248us/step - loss: 0.8161 - acc: 0.7137 - val_loss: 0.8719 - val_acc: 0.7005\n",
            "Epoch 24/100\n",
            "40000/40000 [==============================] - 10s 248us/step - loss: 0.8069 - acc: 0.7139 - val_loss: 0.7696 - val_acc: 0.7379\n",
            "Epoch 25/100\n",
            "40000/40000 [==============================] - 10s 246us/step - loss: 0.7930 - acc: 0.7184 - val_loss: 0.7235 - val_acc: 0.7539\n",
            "Epoch 26/100\n",
            "40000/40000 [==============================] - 10s 244us/step - loss: 0.7823 - acc: 0.7226 - val_loss: 0.7163 - val_acc: 0.7539\n",
            "Epoch 27/100\n",
            "40000/40000 [==============================] - 10s 247us/step - loss: 0.7809 - acc: 0.7270 - val_loss: 0.7753 - val_acc: 0.7352\n",
            "Epoch 28/100\n",
            "40000/40000 [==============================] - 10s 246us/step - loss: 0.7723 - acc: 0.7285 - val_loss: 0.7468 - val_acc: 0.7466\n",
            "Epoch 29/100\n",
            "40000/40000 [==============================] - 10s 246us/step - loss: 0.7618 - acc: 0.7307 - val_loss: 0.8205 - val_acc: 0.7197\n",
            "Epoch 30/100\n",
            "40000/40000 [==============================] - 10s 247us/step - loss: 0.7608 - acc: 0.7327 - val_loss: 0.7280 - val_acc: 0.7496\n",
            "Epoch 31/100\n",
            "40000/40000 [==============================] - 10s 245us/step - loss: 0.7496 - acc: 0.7331 - val_loss: 0.7232 - val_acc: 0.7482\n",
            "Epoch 32/100\n",
            "40000/40000 [==============================] - 10s 246us/step - loss: 0.7440 - acc: 0.7361 - val_loss: 0.7294 - val_acc: 0.7487\n",
            "Epoch 33/100\n",
            "40000/40000 [==============================] - 10s 247us/step - loss: 0.7394 - acc: 0.7362 - val_loss: 0.7173 - val_acc: 0.7533\n",
            "Epoch 34/100\n",
            "40000/40000 [==============================] - 10s 247us/step - loss: 0.7334 - acc: 0.7411 - val_loss: 0.7120 - val_acc: 0.7564\n",
            "Epoch 35/100\n",
            "40000/40000 [==============================] - 10s 246us/step - loss: 0.7306 - acc: 0.7421 - val_loss: 0.6959 - val_acc: 0.7569\n",
            "Epoch 36/100\n",
            "40000/40000 [==============================] - 10s 249us/step - loss: 0.7248 - acc: 0.7437 - val_loss: 0.7303 - val_acc: 0.7548\n",
            "Epoch 37/100\n",
            "40000/40000 [==============================] - 10s 245us/step - loss: 0.7289 - acc: 0.7412 - val_loss: 0.7175 - val_acc: 0.7531\n",
            "Epoch 38/100\n",
            "40000/40000 [==============================] - 10s 247us/step - loss: 0.7168 - acc: 0.7472 - val_loss: 0.6835 - val_acc: 0.7647\n",
            "Epoch 39/100\n",
            "40000/40000 [==============================] - 10s 252us/step - loss: 0.7119 - acc: 0.7475 - val_loss: 0.6761 - val_acc: 0.7672\n",
            "Epoch 40/100\n",
            "40000/40000 [==============================] - 10s 251us/step - loss: 0.7140 - acc: 0.7477 - val_loss: 0.6855 - val_acc: 0.7629\n",
            "Epoch 41/100\n",
            "40000/40000 [==============================] - 10s 249us/step - loss: 0.7075 - acc: 0.7512 - val_loss: 0.7368 - val_acc: 0.7503\n",
            "Epoch 42/100\n",
            "40000/40000 [==============================] - 10s 250us/step - loss: 0.7030 - acc: 0.7521 - val_loss: 0.7357 - val_acc: 0.7562\n",
            "Epoch 43/100\n",
            "40000/40000 [==============================] - 10s 250us/step - loss: 0.6957 - acc: 0.7545 - val_loss: 0.6755 - val_acc: 0.7708\n",
            "Epoch 44/100\n",
            "40000/40000 [==============================] - 10s 249us/step - loss: 0.6972 - acc: 0.7546 - val_loss: 0.7446 - val_acc: 0.7515\n",
            "Epoch 45/100\n",
            "40000/40000 [==============================] - 10s 251us/step - loss: 0.6965 - acc: 0.7521 - val_loss: 0.6833 - val_acc: 0.7704\n",
            "Epoch 46/100\n",
            "40000/40000 [==============================] - 10s 251us/step - loss: 0.6893 - acc: 0.7571 - val_loss: 0.6683 - val_acc: 0.7690\n",
            "Epoch 47/100\n",
            "40000/40000 [==============================] - 10s 250us/step - loss: 0.6839 - acc: 0.7579 - val_loss: 0.7027 - val_acc: 0.7596\n",
            "Epoch 48/100\n",
            "40000/40000 [==============================] - 10s 249us/step - loss: 0.6866 - acc: 0.7550 - val_loss: 0.6619 - val_acc: 0.7710\n",
            "Epoch 49/100\n",
            "40000/40000 [==============================] - 10s 249us/step - loss: 0.6784 - acc: 0.7591 - val_loss: 0.6578 - val_acc: 0.7787\n",
            "Epoch 50/100\n",
            "40000/40000 [==============================] - 10s 249us/step - loss: 0.6883 - acc: 0.7561 - val_loss: 0.6999 - val_acc: 0.7615\n",
            "Epoch 51/100\n",
            "40000/40000 [==============================] - 10s 249us/step - loss: 0.6701 - acc: 0.7631 - val_loss: 0.6787 - val_acc: 0.7712\n",
            "Epoch 52/100\n",
            "40000/40000 [==============================] - 10s 249us/step - loss: 0.6753 - acc: 0.7597 - val_loss: 0.6646 - val_acc: 0.7718\n",
            "Epoch 53/100\n",
            "40000/40000 [==============================] - 10s 250us/step - loss: 0.6756 - acc: 0.7618 - val_loss: 0.7211 - val_acc: 0.7580\n",
            "Epoch 54/100\n",
            "40000/40000 [==============================] - 10s 251us/step - loss: 0.6726 - acc: 0.7619 - val_loss: 0.6390 - val_acc: 0.7816\n",
            "Epoch 55/100\n",
            "40000/40000 [==============================] - 10s 248us/step - loss: 0.6660 - acc: 0.7623 - val_loss: 0.6720 - val_acc: 0.7720\n",
            "Epoch 56/100\n",
            "40000/40000 [==============================] - 10s 248us/step - loss: 0.6642 - acc: 0.7641 - val_loss: 0.6435 - val_acc: 0.7764\n",
            "Epoch 57/100\n",
            "40000/40000 [==============================] - 10s 247us/step - loss: 0.6570 - acc: 0.7669 - val_loss: 0.6506 - val_acc: 0.7816\n",
            "Epoch 58/100\n",
            "40000/40000 [==============================] - 10s 247us/step - loss: 0.6551 - acc: 0.7678 - val_loss: 0.6511 - val_acc: 0.7806\n",
            "Epoch 59/100\n",
            "40000/40000 [==============================] - 10s 250us/step - loss: 0.6596 - acc: 0.7642 - val_loss: 0.7133 - val_acc: 0.7599\n",
            "Epoch 60/100\n",
            "40000/40000 [==============================] - 10s 248us/step - loss: 0.6543 - acc: 0.7673 - val_loss: 0.7141 - val_acc: 0.7633\n",
            "Epoch 61/100\n",
            "40000/40000 [==============================] - 10s 248us/step - loss: 0.6532 - acc: 0.7671 - val_loss: 0.6443 - val_acc: 0.7809\n",
            "Epoch 62/100\n",
            "40000/40000 [==============================] - 10s 248us/step - loss: 0.6500 - acc: 0.7686 - val_loss: 0.6649 - val_acc: 0.7768\n",
            "Epoch 63/100\n",
            "40000/40000 [==============================] - 10s 248us/step - loss: 0.6537 - acc: 0.7671 - val_loss: 0.6640 - val_acc: 0.7743\n",
            "Epoch 64/100\n",
            "40000/40000 [==============================] - 10s 249us/step - loss: 0.6493 - acc: 0.7686 - val_loss: 0.6452 - val_acc: 0.7817\n",
            "Epoch 65/100\n",
            "40000/40000 [==============================] - 10s 248us/step - loss: 0.6490 - acc: 0.7735 - val_loss: 0.6498 - val_acc: 0.7793\n",
            "Epoch 66/100\n",
            "40000/40000 [==============================] - 10s 249us/step - loss: 0.6428 - acc: 0.7736 - val_loss: 0.6611 - val_acc: 0.7756\n",
            "Epoch 67/100\n",
            "40000/40000 [==============================] - 10s 249us/step - loss: 0.6396 - acc: 0.7721 - val_loss: 0.6681 - val_acc: 0.7718\n",
            "Epoch 68/100\n",
            "40000/40000 [==============================] - 10s 250us/step - loss: 0.6502 - acc: 0.7692 - val_loss: 0.6348 - val_acc: 0.7841\n",
            "Epoch 69/100\n",
            "40000/40000 [==============================] - 10s 252us/step - loss: 0.6376 - acc: 0.7743 - val_loss: 0.6490 - val_acc: 0.7800\n",
            "Epoch 70/100\n",
            "40000/40000 [==============================] - 10s 258us/step - loss: 0.6471 - acc: 0.7725 - val_loss: 0.6709 - val_acc: 0.7710\n",
            "Epoch 71/100\n",
            "40000/40000 [==============================] - 10s 249us/step - loss: 0.6325 - acc: 0.7770 - val_loss: 0.6588 - val_acc: 0.7701\n",
            "Epoch 72/100\n",
            "40000/40000 [==============================] - 10s 248us/step - loss: 0.6349 - acc: 0.7752 - val_loss: 0.6694 - val_acc: 0.7761\n",
            "Epoch 73/100\n",
            "40000/40000 [==============================] - 10s 247us/step - loss: 0.6336 - acc: 0.7740 - val_loss: 0.6448 - val_acc: 0.7756\n",
            "Epoch 74/100\n",
            "40000/40000 [==============================] - 10s 248us/step - loss: 0.6381 - acc: 0.7731 - val_loss: 0.6442 - val_acc: 0.7804\n",
            "Epoch 75/100\n",
            "40000/40000 [==============================] - 10s 249us/step - loss: 0.6311 - acc: 0.7792 - val_loss: 0.6555 - val_acc: 0.7745\n",
            "Epoch 76/100\n",
            "40000/40000 [==============================] - 10s 248us/step - loss: 0.6296 - acc: 0.7774 - val_loss: 0.6448 - val_acc: 0.7779\n",
            "Epoch 77/100\n",
            "40000/40000 [==============================] - 10s 248us/step - loss: 0.6277 - acc: 0.7773 - val_loss: 0.6753 - val_acc: 0.7727\n",
            "Epoch 78/100\n",
            "40000/40000 [==============================] - 10s 248us/step - loss: 0.6384 - acc: 0.7749 - val_loss: 0.7317 - val_acc: 0.7568\n",
            "Epoch 79/100\n",
            "40000/40000 [==============================] - 10s 248us/step - loss: 0.6218 - acc: 0.7793 - val_loss: 0.6469 - val_acc: 0.7785\n",
            "Epoch 80/100\n",
            "40000/40000 [==============================] - 10s 248us/step - loss: 0.6172 - acc: 0.7834 - val_loss: 0.6296 - val_acc: 0.7845\n",
            "Epoch 81/100\n",
            "40000/40000 [==============================] - 10s 249us/step - loss: 0.6117 - acc: 0.7823 - val_loss: 0.6689 - val_acc: 0.7774\n",
            "Epoch 82/100\n",
            "40000/40000 [==============================] - 10s 247us/step - loss: 0.6258 - acc: 0.7775 - val_loss: 0.6346 - val_acc: 0.7806\n",
            "Epoch 83/100\n",
            "40000/40000 [==============================] - 10s 249us/step - loss: 0.6283 - acc: 0.7782 - val_loss: 0.6516 - val_acc: 0.7792\n",
            "Epoch 84/100\n",
            "40000/40000 [==============================] - 10s 250us/step - loss: 0.6164 - acc: 0.7807 - val_loss: 0.6278 - val_acc: 0.7862\n",
            "Epoch 85/100\n",
            "40000/40000 [==============================] - 10s 252us/step - loss: 0.6179 - acc: 0.7838 - val_loss: 0.7560 - val_acc: 0.7496\n",
            "Epoch 86/100\n",
            "40000/40000 [==============================] - 10s 250us/step - loss: 0.6226 - acc: 0.7783 - val_loss: 0.6632 - val_acc: 0.7718\n",
            "Epoch 87/100\n",
            "40000/40000 [==============================] - 10s 250us/step - loss: 0.6154 - acc: 0.7812 - val_loss: 0.6596 - val_acc: 0.7771\n",
            "Epoch 88/100\n",
            "40000/40000 [==============================] - 10s 250us/step - loss: 0.6087 - acc: 0.7855 - val_loss: 0.6527 - val_acc: 0.7822\n",
            "Epoch 89/100\n",
            "40000/40000 [==============================] - 10s 248us/step - loss: 0.6108 - acc: 0.7833 - val_loss: 0.6510 - val_acc: 0.7763\n",
            "Epoch 90/100\n",
            "40000/40000 [==============================] - 10s 249us/step - loss: 0.6168 - acc: 0.7829 - val_loss: 0.6055 - val_acc: 0.7925\n",
            "Epoch 91/100\n",
            "40000/40000 [==============================] - 10s 250us/step - loss: 0.6145 - acc: 0.7813 - val_loss: 0.6751 - val_acc: 0.7713\n",
            "Epoch 92/100\n",
            "40000/40000 [==============================] - 10s 250us/step - loss: 0.6137 - acc: 0.7841 - val_loss: 0.6536 - val_acc: 0.7820\n",
            "Epoch 93/100\n",
            "40000/40000 [==============================] - 10s 249us/step - loss: 0.6054 - acc: 0.7858 - val_loss: 0.6356 - val_acc: 0.7791\n",
            "Epoch 94/100\n",
            "40000/40000 [==============================] - 10s 247us/step - loss: 0.6093 - acc: 0.7847 - val_loss: 0.6450 - val_acc: 0.7804\n",
            "Epoch 95/100\n",
            "40000/40000 [==============================] - 10s 249us/step - loss: 0.6206 - acc: 0.7804 - val_loss: 0.6700 - val_acc: 0.7748\n",
            "Epoch 96/100\n",
            "40000/40000 [==============================] - 10s 248us/step - loss: 0.6096 - acc: 0.7837 - val_loss: 0.6452 - val_acc: 0.7785\n",
            "Epoch 97/100\n",
            "40000/40000 [==============================] - 10s 248us/step - loss: 0.6001 - acc: 0.7880 - val_loss: 0.6660 - val_acc: 0.7770\n",
            "Epoch 98/100\n",
            "40000/40000 [==============================] - 10s 249us/step - loss: 0.6126 - acc: 0.7829 - val_loss: 0.6318 - val_acc: 0.7866\n",
            "Epoch 99/100\n",
            "40000/40000 [==============================] - 10s 251us/step - loss: 0.5990 - acc: 0.7866 - val_loss: 0.6367 - val_acc: 0.7807\n",
            "Epoch 100/100\n",
            "40000/40000 [==============================] - 10s 256us/step - loss: 0.5995 - acc: 0.7881 - val_loss: 0.6287 - val_acc: 0.7883\n"
          ],
          "name": "stdout"
        },
        {
          "output_type": "execute_result",
          "data": {
            "text/plain": [
              "<keras.callbacks.History at 0x7f0d7bc57240>"
            ]
          },
          "metadata": {
            "tags": []
          },
          "execution_count": 16
        }
      ]
    },
    {
      "metadata": {
        "id": "r99vUKQpDPnQ",
        "colab_type": "code",
        "colab": {
          "base_uri": "https://localhost:8080/",
          "height": 67
        },
        "outputId": "ae2251e1-2579-488a-893b-ede35b6f0da8"
      },
      "cell_type": "code",
      "source": [
        "scores = model.evaluate(X_test, y_test, verbose=1)\n",
        "print(\"Test Loss:\", scores[0])\n",
        "print(\"Test Accuracy:\", scores[1])"
      ],
      "execution_count": 18,
      "outputs": [
        {
          "output_type": "stream",
          "text": [
            "10000/10000 [==============================] - 1s 143us/step\n",
            "Test Loss: 0.6573727232933044\n",
            "Test Accuracy: 0.7812\n"
          ],
          "name": "stdout"
        }
      ]
    },
    {
      "metadata": {
        "id": "SLH8qgQhIFNH",
        "colab_type": "text"
      },
      "cell_type": "markdown",
      "source": [
        "[Deep Learning Lab] Episode-3: fer2013\n",
        "\n",
        "https://medium.com/deep-learning-turkey/deep-learning-lab-episode-3-fer2013-c38f2e052280"
      ]
    },
    {
      "metadata": {
        "id": "CehRIX3sINPF",
        "colab_type": "code",
        "colab": {}
      },
      "cell_type": "code",
      "source": [
        ""
      ],
      "execution_count": 0,
      "outputs": []
    }
  ]
}