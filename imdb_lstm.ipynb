{
  "cells": [
    {
      "metadata": {
        "_cell_guid": "79c7e3d0-c299-4dcb-8224-4455121ee9b0",
        "_uuid": "d629ff2d2480ee46fbb7e2d37f6b5fab8052498a",
        "trusted": true
      },
      "cell_type": "code",
      "source": "from __future__ import print_function\n\nimport keras\nfrom keras.preprocessing import sequence\nfrom keras.models import Sequential\nfrom keras.layers import Dense, Embedding\nfrom keras.layers import LSTM\nfrom keras.datasets import imdb",
      "execution_count": 1,
      "outputs": [
        {
          "output_type": "stream",
          "text": "Using TensorFlow backend.\n",
          "name": "stderr"
        }
      ]
    },
    {
      "metadata": {
        "trusted": true,
        "_uuid": "5f25bfca13b58ba944176f87cf1818a0254467e6"
      },
      "cell_type": "code",
      "source": "max_features = 20000\nmaxlen=80\nbatch_size=32",
      "execution_count": 2,
      "outputs": []
    },
    {
      "metadata": {
        "trusted": true,
        "_uuid": "34b960f24e589139ccbdef4d0d71e6a6eb561a5b"
      },
      "cell_type": "code",
      "source": "(X_train, y_train), (X_test, y_test) = imdb.load_data(num_words=max_features)",
      "execution_count": 4,
      "outputs": []
    },
    {
      "metadata": {
        "trusted": true,
        "_uuid": "c49087815b13928b31ba2c269c2d08831d7d0358"
      },
      "cell_type": "code",
      "source": "print(len(X_train), len(X_test), X_train.shape, X_test.shape)",
      "execution_count": 6,
      "outputs": [
        {
          "output_type": "stream",
          "text": "25000 25000 (25000,) (25000,)\n",
          "name": "stdout"
        }
      ]
    },
    {
      "metadata": {
        "trusted": true,
        "_uuid": "aca327adfdabee28c1a2641d8c826ce7e4378ba1"
      },
      "cell_type": "code",
      "source": "X_train = sequence.pad_sequences(X_train, maxlen=maxlen)\nX_test = sequence.pad_sequences(X_test, maxlen=maxlen)",
      "execution_count": 9,
      "outputs": []
    },
    {
      "metadata": {
        "trusted": true,
        "_uuid": "fe4286fc6b24bf530d10c73f0d872441392afb7f"
      },
      "cell_type": "code",
      "source": "model = Sequential()\nmodel.add(Embedding(max_features, 128))\nmodel.add(LSTM(128, dropout=0.2, recurrent_dropout=0.2))\nmodel.add(Dense(1, activation='sigmoid'))\n\nmodel.compile(loss='binary_crossentropy', optimizer='adam', metrics=['accuracy'])\nmodel.fit(X_train, y_train, batch_size=batch_size, epochs=5, validation_data=(X_test, y_test))",
      "execution_count": 10,
      "outputs": [
        {
          "output_type": "stream",
          "text": "Train on 25000 samples, validate on 25000 samples\nEpoch 1/5\n25000/25000 [==============================] - 151s 6ms/step - loss: 0.4726 - acc: 0.7670 - val_loss: 0.3819 - val_acc: 0.8314\nEpoch 2/5\n25000/25000 [==============================] - 149s 6ms/step - loss: 0.3013 - acc: 0.8764 - val_loss: 0.4430 - val_acc: 0.7787\nEpoch 3/5\n25000/25000 [==============================] - 149s 6ms/step - loss: 0.2201 - acc: 0.9132 - val_loss: 0.4089 - val_acc: 0.8275\nEpoch 4/5\n25000/25000 [==============================] - 148s 6ms/step - loss: 0.1572 - acc: 0.9409 - val_loss: 0.5004 - val_acc: 0.8286\nEpoch 5/5\n25000/25000 [==============================] - 148s 6ms/step - loss: 0.1068 - acc: 0.9622 - val_loss: 0.5613 - val_acc: 0.8289\n",
          "name": "stdout"
        },
        {
          "output_type": "execute_result",
          "execution_count": 10,
          "data": {
            "text/plain": "<keras.callbacks.History at 0x7f1af3eb7d68>"
          },
          "metadata": {}
        }
      ]
    },
    {
      "metadata": {
        "trusted": true,
        "_uuid": "caad3a97efc4ce443a8545265db00fe425ae97dc"
      },
      "cell_type": "code",
      "source": "loss, acc = model.evaluate(X_test, y_test, verbose=1)\nprint(loss, acc)",
      "execution_count": 11,
      "outputs": [
        {
          "output_type": "stream",
          "text": "25000/25000 [==============================] - 29s 1ms/step\n0.5613040685772895 0.82892\n",
          "name": "stdout"
        }
      ]
    },
    {
      "metadata": {
        "trusted": true,
        "_uuid": "e68bbda9d87905aa3bcdd991cac61ecf7beea09e"
      },
      "cell_type": "code",
      "source": "",
      "execution_count": null,
      "outputs": []
    },
    {
      "metadata": {
        "trusted": true,
        "_uuid": "156aec0e5c58f0871dd79c83c1d21eef90bd5783"
      },
      "cell_type": "code",
      "source": "",
      "execution_count": null,
      "outputs": []
    },
    {
      "metadata": {
        "trusted": true,
        "_uuid": "128d51ac1a252840b0ef793b63d6afcd887edf78"
      },
      "cell_type": "code",
      "source": "",
      "execution_count": null,
      "outputs": []
    }
  ],
  "metadata": {
    "kernelspec": {
      "display_name": "Python 3",
      "language": "python",
      "name": "python3"
    },
    "language_info": {
      "name": "python",
      "version": "3.6.6",
      "mimetype": "text/x-python",
      "codemirror_mode": {
        "name": "ipython",
        "version": 3
      },
      "pygments_lexer": "ipython3",
      "nbconvert_exporter": "python",
      "file_extension": ".py"
    }
  },
  "nbformat": 4,
  "nbformat_minor": 1
}