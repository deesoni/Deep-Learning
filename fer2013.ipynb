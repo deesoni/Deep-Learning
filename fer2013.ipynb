{
  "cells": [
    {
      "metadata": {
        "_uuid": "8f2839f25d086af736a60e9eeb907d3b93b6e0e5",
        "_cell_guid": "b1076dfc-b9ad-4769-8c92-a6c4dae69d19",
        "trusted": true
      },
      "cell_type": "code",
      "source": "# This Python 3 environment comes with many helpful analytics libraries installed\n# It is defined by the kaggle/python docker image: https://github.com/kaggle/docker-python\n# For example, here's several helpful packages to load in \n\nimport numpy as np # linear algebra\nimport pandas as pd # data processing, CSV file I/O (e.g. pd.read_csv)\n\n# Input data files are available in the \"../input/\" directory.\n# For example, running this (by clicking run or pressing Shift+Enter) will list the files in the input directory\n\nimport os\nprint(os.listdir(\"../input\"))\n\n# Any results you write to the current directory are saved as output.",
      "execution_count": 1,
      "outputs": [
        {
          "output_type": "stream",
          "text": "['README', 'ferSubmission.csv', 'fer2013.bib', 'fer20131.csv']\n",
          "name": "stdout"
        }
      ]
    },
    {
      "metadata": {
        "_cell_guid": "79c7e3d0-c299-4dcb-8224-4455121ee9b0",
        "_uuid": "d629ff2d2480ee46fbb7e2d37f6b5fab8052498a",
        "trusted": true
      },
      "cell_type": "code",
      "source": "import os, sys\nimport numpy as np\nimport pandas as pd\nimport cv2\nfrom sklearn.model_selection import train_test_split\nfrom keras.models import Sequential, load_model\nfrom keras.layers import Dense, Dropout, Activation, Flatten, Conv2D, MaxPooling2D, BatchNormalization\nfrom keras.losses import categorical_crossentropy\nfrom keras.regularizers import l2\nfrom keras.optimizers import Adam\nfrom keras.callbacks import ReduceLROnPlateau, TensorBoard, EarlyStopping, ModelCheckpoint",
      "execution_count": 3,
      "outputs": []
    },
    {
      "metadata": {
        "trusted": true,
        "_uuid": "3f5319057c6e68dc5e7d371b0f71550752f4521c"
      },
      "cell_type": "code",
      "source": "num_features = 64\nnum_labels = 7\nbatch_size = 64\nepochs = 100\nwidth, height = 48, 48",
      "execution_count": 4,
      "outputs": []
    },
    {
      "metadata": {
        "trusted": true,
        "_uuid": "f793aa61e91a5994f0509cd1c8e91e102c639954"
      },
      "cell_type": "code",
      "source": "data = pd.read_csv('../input/fer20131.csv')",
      "execution_count": 5,
      "outputs": []
    },
    {
      "metadata": {
        "trusted": true,
        "_uuid": "5768cf7cf9737f2594c1e3cde955d45bf8c60014"
      },
      "cell_type": "code",
      "source": "data.head()",
      "execution_count": 6,
      "outputs": [
        {
          "output_type": "execute_result",
          "execution_count": 6,
          "data": {
            "text/plain": "   emotion    ...        Usage\n0        0    ...     Training\n1        0    ...     Training\n2        2    ...     Training\n3        4    ...     Training\n4        6    ...     Training\n\n[5 rows x 3 columns]",
            "text/html": "<div>\n<style scoped>\n    .dataframe tbody tr th:only-of-type {\n        vertical-align: middle;\n    }\n\n    .dataframe tbody tr th {\n        vertical-align: top;\n    }\n\n    .dataframe thead th {\n        text-align: right;\n    }\n</style>\n<table border=\"1\" class=\"dataframe\">\n  <thead>\n    <tr style=\"text-align: right;\">\n      <th></th>\n      <th>emotion</th>\n      <th>pixels</th>\n      <th>Usage</th>\n    </tr>\n  </thead>\n  <tbody>\n    <tr>\n      <th>0</th>\n      <td>0</td>\n      <td>70 80 82 72 58 58 60 63 54 58 60 48 89 115 121...</td>\n      <td>Training</td>\n    </tr>\n    <tr>\n      <th>1</th>\n      <td>0</td>\n      <td>151 150 147 155 148 133 111 140 170 174 182 15...</td>\n      <td>Training</td>\n    </tr>\n    <tr>\n      <th>2</th>\n      <td>2</td>\n      <td>231 212 156 164 174 138 161 173 182 200 106 38...</td>\n      <td>Training</td>\n    </tr>\n    <tr>\n      <th>3</th>\n      <td>4</td>\n      <td>24 32 36 30 32 23 19 20 30 41 21 22 32 34 21 1...</td>\n      <td>Training</td>\n    </tr>\n    <tr>\n      <th>4</th>\n      <td>6</td>\n      <td>4 0 0 0 0 0 0 0 0 0 0 0 3 15 23 28 48 50 58 84...</td>\n      <td>Training</td>\n    </tr>\n  </tbody>\n</table>\n</div>"
          },
          "metadata": {}
        }
      ]
    },
    {
      "metadata": {
        "trusted": true,
        "_uuid": "61757b7e64e9ed2257d338bd15063e95df93bbe4"
      },
      "cell_type": "code",
      "source": "data.tail()",
      "execution_count": 7,
      "outputs": [
        {
          "output_type": "execute_result",
          "execution_count": 7,
          "data": {
            "text/plain": "       emotion     ...             Usage\n35882        6     ...       PrivateTest\n35883        3     ...       PrivateTest\n35884        0     ...       PrivateTest\n35885        3     ...       PrivateTest\n35886        2     ...       PrivateTest\n\n[5 rows x 3 columns]",
            "text/html": "<div>\n<style scoped>\n    .dataframe tbody tr th:only-of-type {\n        vertical-align: middle;\n    }\n\n    .dataframe tbody tr th {\n        vertical-align: top;\n    }\n\n    .dataframe thead th {\n        text-align: right;\n    }\n</style>\n<table border=\"1\" class=\"dataframe\">\n  <thead>\n    <tr style=\"text-align: right;\">\n      <th></th>\n      <th>emotion</th>\n      <th>pixels</th>\n      <th>Usage</th>\n    </tr>\n  </thead>\n  <tbody>\n    <tr>\n      <th>35882</th>\n      <td>6</td>\n      <td>50 36 17 22 23 29 33 39 34 37 37 37 39 43 48 5...</td>\n      <td>PrivateTest</td>\n    </tr>\n    <tr>\n      <th>35883</th>\n      <td>3</td>\n      <td>178 174 172 173 181 188 191 194 196 199 200 20...</td>\n      <td>PrivateTest</td>\n    </tr>\n    <tr>\n      <th>35884</th>\n      <td>0</td>\n      <td>17 17 16 23 28 22 19 17 25 26 20 24 31 19 27 9...</td>\n      <td>PrivateTest</td>\n    </tr>\n    <tr>\n      <th>35885</th>\n      <td>3</td>\n      <td>30 28 28 29 31 30 42 68 79 81 77 67 67 71 63 6...</td>\n      <td>PrivateTest</td>\n    </tr>\n    <tr>\n      <th>35886</th>\n      <td>2</td>\n      <td>19 13 14 12 13 16 21 33 50 57 71 84 97 108 122...</td>\n      <td>PrivateTest</td>\n    </tr>\n  </tbody>\n</table>\n</div>"
          },
          "metadata": {}
        }
      ]
    },
    {
      "metadata": {
        "trusted": true,
        "_uuid": "8a3172b8d73f6e6c8b7d2cafdf4f84fdd34918a1"
      },
      "cell_type": "code",
      "source": "data.Usage.value_counts()",
      "execution_count": 9,
      "outputs": [
        {
          "output_type": "execute_result",
          "execution_count": 9,
          "data": {
            "text/plain": "Training       28709\nPrivateTest     3589\nPublicTest      3589\nName: Usage, dtype: int64"
          },
          "metadata": {}
        }
      ]
    },
    {
      "metadata": {
        "trusted": true,
        "_uuid": "407674710542b7f585459f7686875d1bb51e2e10"
      },
      "cell_type": "code",
      "source": "pixels = data['pixels'].tolist()",
      "execution_count": 11,
      "outputs": []
    },
    {
      "metadata": {
        "trusted": true,
        "_uuid": "58fbd6361c20b08481819da4cae82dd952828618"
      },
      "cell_type": "code",
      "source": "faces = []\nfor pixel_sequence in pixels:\n    face = [int(pixel) for pixel in pixel_sequence.split(' ')]\n    face = np.asarray(face).reshape(width, height)\n    face = face/255.0\n    face = cv2.resize(face.astype('uint8'), (width, height))\n    faces.append(face.astype('float32'))\n    \nfaces = np.asarray(faces)\nfaces = np.expand_dims(faces, -1)\n\nemotions = pd.get_dummies(data['emotion']).as_matrix()",
      "execution_count": 13,
      "outputs": [
        {
          "output_type": "stream",
          "text": "/opt/conda/lib/python3.6/site-packages/ipykernel_launcher.py:12: FutureWarning: Method .as_matrix will be removed in a future version. Use .values instead.\n  if sys.path[0] == '':\n",
          "name": "stderr"
        }
      ]
    },
    {
      "metadata": {
        "trusted": true,
        "_uuid": "4decac55983698f46316782a76c96e3d74760fef"
      },
      "cell_type": "code",
      "source": "X_train, X_test, y_train, y_test = train_test_split(faces, emotions, test_size=0.1, random_state=42)\nX_train, X_val, y_train, y_val = train_test_split(X_train, y_train, test_size=0.1, random_state=41)",
      "execution_count": 14,
      "outputs": []
    },
    {
      "metadata": {
        "trusted": true,
        "_uuid": "4f6f8a0d7dbd09f28e5a79f2d109f3b8d5a0d268"
      },
      "cell_type": "code",
      "source": "model = Sequential()\n\nmodel.add(Conv2D(num_features, kernel_size=(3, 3), activation='relu', input_shape=(width, height, 1), data_format='channels_last', kernel_regularizer=l2(0.01)))\nmodel.add(Conv2D(num_features, kernel_size=(3, 3), activation='relu', padding='same'))\nmodel.add(BatchNormalization())\nmodel.add(MaxPooling2D(pool_size=(2, 2), strides=(2, 2)))\nmodel.add(Dropout(0.5))\n\nmodel.add(Conv2D(2*num_features, kernel_size=(3, 3), activation='relu', padding='same'))\nmodel.add(BatchNormalization())\nmodel.add(Conv2D(2*num_features, kernel_size=(3, 3), activation='relu', padding='same'))\nmodel.add(BatchNormalization())\nmodel.add(MaxPooling2D(pool_size=(2, 2), strides=(2, 2)))\nmodel.add(Dropout(0.5))\n\nmodel.add(Conv2D(2*2*num_features, kernel_size=(3, 3), activation='relu', padding='same'))\nmodel.add(BatchNormalization())\nmodel.add(Conv2D(2*2*num_features, kernel_size=(3, 3), activation='relu', padding='same'))\nmodel.add(BatchNormalization())\nmodel.add(MaxPooling2D(pool_size=(2, 2), strides=(2, 2)))\nmodel.add(Dropout(0.5))\n\nmodel.add(Conv2D(2*2*2*num_features, kernel_size=(3, 3), activation='relu', padding='same'))\nmodel.add(BatchNormalization())\nmodel.add(Conv2D(2*2*2*num_features, kernel_size=(3, 3), activation='relu', padding='same'))\nmodel.add(BatchNormalization())\nmodel.add(MaxPooling2D(pool_size=(2, 2), strides=(2, 2)))\nmodel.add(Dropout(0.5))\n\nmodel.add(Flatten())\n\nmodel.add(Dense(2*2*2*num_features, activation='relu'))\nmodel.add(Dropout(0.4))\nmodel.add(Dense(2*2*num_features, activation='relu'))\nmodel.add(Dropout(0.4))\nmodel.add(Dense(2*num_features, activation='relu'))\nmodel.add(Dropout(0.5))\n\nmodel.add(Dense(num_labels, activation='softmax'))",
      "execution_count": 19,
      "outputs": []
    },
    {
      "metadata": {
        "trusted": true,
        "_uuid": "380ecb7d72971a35c5a74184b4f966a41624b02a"
      },
      "cell_type": "code",
      "source": "model.summary()",
      "execution_count": 20,
      "outputs": [
        {
          "output_type": "stream",
          "text": "_________________________________________________________________\nLayer (type)                 Output Shape              Param #   \n=================================================================\nconv2d_26 (Conv2D)           (None, 46, 46, 64)        640       \n_________________________________________________________________\nconv2d_27 (Conv2D)           (None, 46, 46, 64)        36928     \n_________________________________________________________________\nbatch_normalization_22 (Batc (None, 46, 46, 64)        256       \n_________________________________________________________________\nmax_pooling2d_13 (MaxPooling (None, 23, 23, 64)        0         \n_________________________________________________________________\ndropout_22 (Dropout)         (None, 23, 23, 64)        0         \n_________________________________________________________________\nconv2d_28 (Conv2D)           (None, 23, 23, 128)       73856     \n_________________________________________________________________\nbatch_normalization_23 (Batc (None, 23, 23, 128)       512       \n_________________________________________________________________\nconv2d_29 (Conv2D)           (None, 23, 23, 128)       147584    \n_________________________________________________________________\nbatch_normalization_24 (Batc (None, 23, 23, 128)       512       \n_________________________________________________________________\nmax_pooling2d_14 (MaxPooling (None, 11, 11, 128)       0         \n_________________________________________________________________\ndropout_23 (Dropout)         (None, 11, 11, 128)       0         \n_________________________________________________________________\nconv2d_30 (Conv2D)           (None, 11, 11, 256)       295168    \n_________________________________________________________________\nbatch_normalization_25 (Batc (None, 11, 11, 256)       1024      \n_________________________________________________________________\nconv2d_31 (Conv2D)           (None, 11, 11, 256)       590080    \n_________________________________________________________________\nbatch_normalization_26 (Batc (None, 11, 11, 256)       1024      \n_________________________________________________________________\nmax_pooling2d_15 (MaxPooling (None, 5, 5, 256)         0         \n_________________________________________________________________\ndropout_24 (Dropout)         (None, 5, 5, 256)         0         \n_________________________________________________________________\nconv2d_32 (Conv2D)           (None, 5, 5, 512)         1180160   \n_________________________________________________________________\nbatch_normalization_27 (Batc (None, 5, 5, 512)         2048      \n_________________________________________________________________\nconv2d_33 (Conv2D)           (None, 5, 5, 512)         2359808   \n_________________________________________________________________\nbatch_normalization_28 (Batc (None, 5, 5, 512)         2048      \n_________________________________________________________________\nmax_pooling2d_16 (MaxPooling (None, 2, 2, 512)         0         \n_________________________________________________________________\ndropout_25 (Dropout)         (None, 2, 2, 512)         0         \n_________________________________________________________________\nflatten_4 (Flatten)          (None, 2048)              0         \n_________________________________________________________________\ndense_13 (Dense)             (None, 512)               1049088   \n_________________________________________________________________\ndropout_26 (Dropout)         (None, 512)               0         \n_________________________________________________________________\ndense_14 (Dense)             (None, 256)               131328    \n_________________________________________________________________\ndropout_27 (Dropout)         (None, 256)               0         \n_________________________________________________________________\ndense_15 (Dense)             (None, 128)               32896     \n_________________________________________________________________\ndropout_28 (Dropout)         (None, 128)               0         \n_________________________________________________________________\ndense_16 (Dense)             (None, 7)                 903       \n=================================================================\nTotal params: 5,905,863\nTrainable params: 5,902,151\nNon-trainable params: 3,712\n_________________________________________________________________\n",
          "name": "stdout"
        }
      ]
    },
    {
      "metadata": {
        "trusted": true,
        "_uuid": "94226e4fb24fa333c78eb7397da8ecdb647c704b"
      },
      "cell_type": "code",
      "source": "model.compile(loss=categorical_crossentropy, optimizer=Adam(lr=0.001, beta_1=0.9, beta_2=0.999, epsilon=1e-7), metrics=['accuracy'])",
      "execution_count": 22,
      "outputs": []
    },
    {
      "metadata": {
        "_uuid": "a463769aa596536fb25184b02fc8a8d42b6f975b"
      },
      "cell_type": "markdown",
      "source": "Firstly, we help the loss function to get rid of the “plateaus” by reducing the learning rate parameter of the optimization function with a certain value (factor) if there is no improvement on the value of the loss function for the validation set after a certain epoch (patience)."
    },
    {
      "metadata": {
        "trusted": true,
        "_uuid": "abfcac8f50dcebfe44c834705feac15d9a8a1f2d"
      },
      "cell_type": "code",
      "source": "lr_reduce = ReduceLROnPlateau(monitor='val_loss', factor=0.9, patience=3, verbose=1)",
      "execution_count": 23,
      "outputs": []
    },
    {
      "metadata": {
        "trusted": true,
        "_uuid": "8f1f194528aa63c6b7899b3e40a01faef3a23ae9"
      },
      "cell_type": "code",
      "source": "early_stopper = EarlyStopping(monitor='val_loss', min_delta=0, patience=8, verbose=1, mode='auto')",
      "execution_count": 24,
      "outputs": []
    },
    {
      "metadata": {
        "trusted": true,
        "scrolled": true,
        "_uuid": "cf038347c2cead04b4427280fb898415dc1a4c5a"
      },
      "cell_type": "code",
      "source": "model.fit(np.array(X_train), np.array(y_train), batch_size=batch_size, epochs=epochs, verbose=1, \n          validation_data=(np.array(X_test), np.array(y_test)), shuffle=True, callbacks=[lr_reduce, early_stopper])",
      "execution_count": 25,
      "outputs": [
        {
          "output_type": "stream",
          "text": "Train on 29068 samples, validate on 3589 samples\nEpoch 1/100\n29068/29068 [==============================] - 61s 2ms/step - loss: 2.1107 - acc: 0.2148 - val_loss: 1.8364 - val_acc: 0.2455\nEpoch 2/100\n29068/29068 [==============================] - 56s 2ms/step - loss: 1.8382 - acc: 0.2459 - val_loss: 1.8194 - val_acc: 0.2455\nEpoch 3/100\n29068/29068 [==============================] - 55s 2ms/step - loss: 1.8287 - acc: 0.2487 - val_loss: 1.8292 - val_acc: 0.2455\nEpoch 4/100\n29068/29068 [==============================] - 55s 2ms/step - loss: 1.8172 - acc: 0.2506 - val_loss: 1.8356 - val_acc: 0.2455\nEpoch 5/100\n29068/29068 [==============================] - 56s 2ms/step - loss: 1.8119 - acc: 0.2509 - val_loss: 1.8466 - val_acc: 0.2455\n\nEpoch 00005: ReduceLROnPlateau reducing learning rate to 0.0009000000427477062.\nEpoch 6/100\n29068/29068 [==============================] - 56s 2ms/step - loss: 1.8091 - acc: 0.2513 - val_loss: 1.8008 - val_acc: 0.2455\nEpoch 7/100\n29068/29068 [==============================] - 56s 2ms/step - loss: 1.8055 - acc: 0.2521 - val_loss: 1.9331 - val_acc: 0.1201\nEpoch 8/100\n29068/29068 [==============================] - 56s 2ms/step - loss: 1.8024 - acc: 0.2540 - val_loss: 1.8790 - val_acc: 0.1376\nEpoch 9/100\n29068/29068 [==============================] - 56s 2ms/step - loss: 1.8022 - acc: 0.2528 - val_loss: 1.8051 - val_acc: 0.2460\n\nEpoch 00009: ReduceLROnPlateau reducing learning rate to 0.0008100000384729356.\nEpoch 10/100\n29068/29068 [==============================] - 56s 2ms/step - loss: 1.8020 - acc: 0.2539 - val_loss: 1.7934 - val_acc: 0.2575\nEpoch 11/100\n29068/29068 [==============================] - 55s 2ms/step - loss: 1.8008 - acc: 0.2536 - val_loss: 1.7964 - val_acc: 0.2502\nEpoch 12/100\n29068/29068 [==============================] - 56s 2ms/step - loss: 1.8004 - acc: 0.2545 - val_loss: 1.7924 - val_acc: 0.2549\nEpoch 13/100\n29068/29068 [==============================] - 56s 2ms/step - loss: 1.8004 - acc: 0.2536 - val_loss: 1.8073 - val_acc: 0.2466\nEpoch 14/100\n29068/29068 [==============================] - 56s 2ms/step - loss: 1.7988 - acc: 0.2555 - val_loss: 1.7948 - val_acc: 0.2508\nEpoch 15/100\n29068/29068 [==============================] - 56s 2ms/step - loss: 1.7989 - acc: 0.2543 - val_loss: 1.8005 - val_acc: 0.2458\n\nEpoch 00015: ReduceLROnPlateau reducing learning rate to 0.0007290000503417104.\nEpoch 16/100\n29068/29068 [==============================] - 56s 2ms/step - loss: 1.7951 - acc: 0.2570 - val_loss: 1.7976 - val_acc: 0.2566\nEpoch 17/100\n29068/29068 [==============================] - 56s 2ms/step - loss: 1.7955 - acc: 0.2567 - val_loss: 1.7874 - val_acc: 0.2555\nEpoch 18/100\n29068/29068 [==============================] - 56s 2ms/step - loss: 1.7947 - acc: 0.2585 - val_loss: 1.7911 - val_acc: 0.2522\nEpoch 19/100\n29068/29068 [==============================] - 56s 2ms/step - loss: 1.7942 - acc: 0.2567 - val_loss: 1.7889 - val_acc: 0.2577\nEpoch 20/100\n29068/29068 [==============================] - 56s 2ms/step - loss: 1.7919 - acc: 0.2573 - val_loss: 1.8101 - val_acc: 0.2460\n\nEpoch 00020: ReduceLROnPlateau reducing learning rate to 0.0006561000715009868.\nEpoch 21/100\n29068/29068 [==============================] - 56s 2ms/step - loss: 1.7924 - acc: 0.2574 - val_loss: 1.7854 - val_acc: 0.2552\nEpoch 22/100\n29068/29068 [==============================] - 56s 2ms/step - loss: 1.7924 - acc: 0.2592 - val_loss: 1.7947 - val_acc: 0.2555\nEpoch 23/100\n29068/29068 [==============================] - 56s 2ms/step - loss: 1.7901 - acc: 0.2599 - val_loss: 1.8066 - val_acc: 0.2544\nEpoch 24/100\n29068/29068 [==============================] - 56s 2ms/step - loss: 1.7921 - acc: 0.2595 - val_loss: 2.0633 - val_acc: 0.1337\n\nEpoch 00024: ReduceLROnPlateau reducing learning rate to 0.0005904900433961303.\nEpoch 25/100\n29068/29068 [==============================] - 56s 2ms/step - loss: 1.7893 - acc: 0.2596 - val_loss: 1.8051 - val_acc: 0.2460\nEpoch 26/100\n29068/29068 [==============================] - 56s 2ms/step - loss: 1.7892 - acc: 0.2586 - val_loss: 1.8075 - val_acc: 0.2533\nEpoch 27/100\n29068/29068 [==============================] - 56s 2ms/step - loss: 1.7892 - acc: 0.2592 - val_loss: 1.8011 - val_acc: 0.2577\n\nEpoch 00027: ReduceLROnPlateau reducing learning rate to 0.0005314410547725857.\nEpoch 28/100\n29068/29068 [==============================] - 56s 2ms/step - loss: 1.7863 - acc: 0.2594 - val_loss: 1.7999 - val_acc: 0.2452\nEpoch 29/100\n29068/29068 [==============================] - 56s 2ms/step - loss: 1.7875 - acc: 0.2596 - val_loss: 1.7858 - val_acc: 0.2577\nEpoch 00029: early stopping\n",
          "name": "stdout"
        },
        {
          "output_type": "execute_result",
          "execution_count": 25,
          "data": {
            "text/plain": "<keras.callbacks.History at 0x7f7ba63ef2e8>"
          },
          "metadata": {}
        }
      ]
    },
    {
      "metadata": {
        "trusted": true,
        "_uuid": "fca265cb31be111afc79e2d48eb85e2497fbb06f"
      },
      "cell_type": "code",
      "source": "scores = model.evaluate(np.array(X_test), np.array(y_test), batch_size=batch_size)\nprint(\"Loss: \" + str(scores[0]))\nprint(\"Accuracy: \" + str(scores[1]))",
      "execution_count": 26,
      "outputs": [
        {
          "output_type": "stream",
          "text": "3589/3589 [==============================] - 2s 548us/step\nLoss: 1.785830047875269\nAccuracy: 0.25773195876703847\n",
          "name": "stdout"
        }
      ]
    },
    {
      "metadata": {
        "trusted": true,
        "_uuid": "d8b1a8690bd1388d42ef4164777c170fbaef0f77"
      },
      "cell_type": "code",
      "source": "",
      "execution_count": null,
      "outputs": []
    },
    {
      "metadata": {
        "trusted": true,
        "_uuid": "7399d96fea6756cab2a5284884c5c9ab6f6dc975"
      },
      "cell_type": "code",
      "source": "",
      "execution_count": null,
      "outputs": []
    }
  ],
  "metadata": {
    "kernelspec": {
      "display_name": "Python 3",
      "language": "python",
      "name": "python3"
    },
    "language_info": {
      "name": "python",
      "version": "3.6.6",
      "mimetype": "text/x-python",
      "codemirror_mode": {
        "name": "ipython",
        "version": 3
      },
      "pygments_lexer": "ipython3",
      "nbconvert_exporter": "python",
      "file_extension": ".py"
    }
  },
  "nbformat": 4,
  "nbformat_minor": 1
}